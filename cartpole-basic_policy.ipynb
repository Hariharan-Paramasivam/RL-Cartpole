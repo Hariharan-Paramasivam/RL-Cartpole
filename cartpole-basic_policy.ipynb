{
 "cells": [
  {
   "cell_type": "code",
   "execution_count": 3,
   "metadata": {
    "colab": {
     "base_uri": "https://localhost:8080/"
    },
    "executionInfo": {
     "elapsed": 8104,
     "status": "ok",
     "timestamp": 1662614364277,
     "user": {
      "displayName": "Hariharan Paramasivam",
      "userId": "00354726669846482194"
     },
     "user_tz": -330
    },
    "id": "spXl8wIjhkRz",
    "outputId": "62972880-af6e-47a8-ab9a-a19b65f6cf1c"
   },
   "outputs": [
    {
     "name": "stdout",
     "output_type": "stream",
     "text": [
      "Requirement already satisfied: gym[classic_control] in c:\\users\\harih\\anaconda3\\envs\\rl\\lib\\site-packages (0.21.0)\n",
      "Requirement already satisfied: numpy>=1.18.0 in c:\\users\\harih\\anaconda3\\envs\\rl\\lib\\site-packages (from gym[classic_control]) (1.23.1)\n",
      "Requirement already satisfied: cloudpickle>=1.2.0 in c:\\users\\harih\\anaconda3\\envs\\rl\\lib\\site-packages (from gym[classic_control]) (2.1.0)\n",
      "Requirement already satisfied: pyglet>=1.4.0 in c:\\users\\harih\\anaconda3\\envs\\rl\\lib\\site-packages (from gym[classic_control]) (1.5.26)\n"
     ]
    }
   ],
   "source": [
    "!pip install gym[classic_control]"
   ]
  },
  {
   "cell_type": "markdown",
   "metadata": {
    "id": "0I0RQ7nQht-_"
   },
   "source": [
    "## Basic Policy"
   ]
  },
  {
   "cell_type": "markdown",
   "metadata": {
    "id": "nL7zzg3ytBnP"
   },
   "source": [
    "Import Dependencies"
   ]
  },
  {
   "cell_type": "code",
   "execution_count": 4,
   "metadata": {
    "id": "0GN_NhXxh09C"
   },
   "outputs": [],
   "source": [
    "import gym\n",
    "import numpy as np\n",
    "import time\n",
    "#from tqdm import tqdm"
   ]
  },
  {
   "cell_type": "markdown",
   "metadata": {
    "id": "89jNfQMyh4Ke"
   },
   "source": [
    "Import Environment"
   ]
  },
  {
   "cell_type": "code",
   "execution_count": 5,
   "metadata": {
    "id": "Sw7puhmuh7LF"
   },
   "outputs": [],
   "source": [
    "env = gym.make(\"CartPole-v1\")"
   ]
  },
  {
   "cell_type": "markdown",
   "metadata": {
    "id": "Nu3WZ1uah-91"
   },
   "source": [
    "Creating Basic Policy "
   ]
  },
  {
   "cell_type": "code",
   "execution_count": 6,
   "metadata": {
    "id": "coa1qiSHh9OM"
   },
   "outputs": [],
   "source": [
    "def basic_policy(PoleAngle):\n",
    "    if PoleAngle < 0: # falling left\n",
    "        return 0 # Move left\n",
    "    return 1 "
   ]
  },
  {
   "cell_type": "code",
   "execution_count": 9,
   "metadata": {
    "colab": {
     "base_uri": "https://localhost:8080/"
    },
    "executionInfo": {
     "elapsed": 3522,
     "status": "ok",
     "timestamp": 1662618386398,
     "user": {
      "displayName": "Hariharan Paramasivam",
      "userId": "00354726669846482194"
     },
     "user_tz": -330
    },
    "id": "9IaNJyx8iVpV",
    "outputId": "cec48750-ae1e-4d64-a8f9-920ec98ed2cc"
   },
   "outputs": [
    {
     "ename": "KeyboardInterrupt",
     "evalue": "",
     "output_type": "error",
     "traceback": [
      "\u001b[1;31m---------------------------------------------------------------------------\u001b[0m",
      "\u001b[1;31mKeyboardInterrupt\u001b[0m                         Traceback (most recent call last)",
      "Input \u001b[1;32mIn [9]\u001b[0m, in \u001b[0;36m<cell line: 6>\u001b[1;34m()\u001b[0m\n\u001b[0;32m     13\u001b[0m action \u001b[38;5;241m=\u001b[39m basic_policy(PoleAngle)\n\u001b[0;32m     14\u001b[0m Observations, reward, done, info \u001b[38;5;241m=\u001b[39m env\u001b[38;5;241m.\u001b[39mstep(action)\n\u001b[1;32m---> 15\u001b[0m \u001b[43mtime\u001b[49m\u001b[38;5;241;43m.\u001b[39;49m\u001b[43msleep\u001b[49m\u001b[43m(\u001b[49m\u001b[38;5;241;43m0.1\u001b[39;49m\u001b[43m)\u001b[49m \u001b[38;5;66;03m# sleep\u001b[39;00m\n\u001b[0;32m     16\u001b[0m rewards \u001b[38;5;241m+\u001b[39m\u001b[38;5;241m=\u001b[39m reward\n\u001b[0;32m     17\u001b[0m \u001b[38;5;28;01mif\u001b[39;00m done: \u001b[38;5;66;03m# Fallen\u001b[39;00m\n",
      "\u001b[1;31mKeyboardInterrupt\u001b[0m: "
     ]
    }
   ],
   "source": [
    "total_rewards = list()\n",
    "\n",
    "N_episodes = 200 # total number of episodes\n",
    "N_steps = 500 # total number of steps per episode\n",
    "\n",
    "for episode in range(N_episodes):\n",
    "    rewards = 0\n",
    "    # CartPoistion, CartVelocity, PoleAngle, PoleAngularVelocity\n",
    "    Observations = env.reset()\n",
    "    PoleAngle = Observations[2]\n",
    "    for step in range(N_steps):\n",
    "        env.render()\n",
    "        action = basic_policy(PoleAngle)\n",
    "        Observations, reward, done, info = env.step(action)\n",
    "        time.sleep(0.1) # sleep\n",
    "        rewards += reward\n",
    "        if done: # Fallen\n",
    "            break\n",
    "    total_rewards.append(rewards)\n",
    "\n",
    "stats = {\n",
    "    \"mean\": np.mean(total_rewards),\n",
    "    \"std\": np.std(total_rewards),\n",
    "    \"min\": np.min(total_rewards),\n",
    "    \"max\": np.max(total_rewards)\n",
    "}\n",
    "\n",
    "print(stats)"
   ]
  },
  {
   "cell_type": "code",
   "execution_count": null,
   "metadata": {},
   "outputs": [],
   "source": []
  }
 ],
 "metadata": {
  "colab": {
   "authorship_tag": "ABX9TyMQvt8Tg81yKFFZXzcwtNC8",
   "provenance": []
  },
  "kernelspec": {
   "display_name": "Python 3 (ipykernel)",
   "language": "python",
   "name": "python3"
  },
  "language_info": {
   "codemirror_mode": {
    "name": "ipython",
    "version": 3
   },
   "file_extension": ".py",
   "mimetype": "text/x-python",
   "name": "python",
   "nbconvert_exporter": "python",
   "pygments_lexer": "ipython3",
   "version": "3.10.4"
  }
 },
 "nbformat": 4,
 "nbformat_minor": 1
}
